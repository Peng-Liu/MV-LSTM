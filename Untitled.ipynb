{
 "cells": [
  {
   "cell_type": "code",
   "execution_count": 34,
   "metadata": {
    "collapsed": true
   },
   "outputs": [],
   "source": [
    "def opt_compare(opt_a, opt_b):\n",
    "    \n",
    "    if opt_a in ['+', '-'] and opt_b in ['+', '-']:\n",
    "        return 0\n",
    "    elif opt_a in ['+', '-'] and opt_b in ['*', '/']:\n",
    "        return -1\n",
    "    elif opt_a in ['*', '/'] and opt_b in ['+', '-']:\n",
    "        return +1\n",
    "    \n",
    "\n",
    "def RPN_to_plain_exp(rpn_exp):\n",
    "    \n",
    "    stack = []\n",
    "    stack_opt = []\n",
    "    \n",
    "    plain_exp = []\n",
    "    \n",
    "    for ele in rpn_exp:\n",
    "        \n",
    "        if ele in ['+', '-', '*', '/']:\n",
    "            \n",
    "            if len(stack)>=2:\n",
    "                post = stack.pop()\n",
    "                pre = stack.pop()\n",
    "                \n",
    "            else:\n",
    "                return None\n",
    "            \n",
    "            tmp = []\n",
    "            \n",
    "            \n",
    "            if type(post) == list:\n",
    "                \n",
    "                if opt_compare(ele, stack_opt.pop()) == 1:\n",
    "                    tmp = tmp + ['('] + post + [')']\n",
    "                else:\n",
    "                    tmp = tmp + post\n",
    "            else:\n",
    "                tmp = tmp + [post]\n",
    "            \n",
    "            tmp = [ele] + tmp\n",
    "            \n",
    "            if type(pre) == list:\n",
    "                \n",
    "                if opt_compare(ele, stack_opt.pop()) == 1:\n",
    "                    tmp = ['('] + pre + [')'] + tmp\n",
    "                else:\n",
    "                    tmp = pre + tmp\n",
    "                    \n",
    "            else:\n",
    "                tmp = [pre] + tmp\n",
    "            \n",
    "            \n",
    "            stack.append(tmp)\n",
    "            stack_opt.append(ele)\n",
    "            \n",
    "        else:\n",
    "            stack.append(ele)\n",
    "    return stack[-1] "
   ]
  },
  {
   "cell_type": "code",
   "execution_count": 36,
   "metadata": {},
   "outputs": [
    {
     "name": "stdout",
     "output_type": "stream",
     "text": [
      "8'-'9'+'10\n",
      "(8-9-7*2)*11/12\n"
     ]
    }
   ],
   "source": [
    "# str.replaceAll(\", $\", \"\");\n",
    "\n",
    "print str(RPN_to_plain_exp([8, 9, 10, \"+\", \"-\"]))[1:-1].replace(\", \", \"\")\n",
    "\n",
    "print str(RPN_to_plain_exp([8, 9, 7, 2, \"*\", \"-\", \"-\", 11, 12, \"/\", \"*\"]))[1:-1].replace(\", \", \"\").replace(\"'\", \"\")\n"
   ]
  }
 ],
 "metadata": {
  "kernelspec": {
   "display_name": "Python 2",
   "language": "python",
   "name": "python2"
  },
  "language_info": {
   "codemirror_mode": {
    "name": "ipython",
    "version": 2
   },
   "file_extension": ".py",
   "mimetype": "text/x-python",
   "name": "python",
   "nbconvert_exporter": "python",
   "pygments_lexer": "ipython2",
   "version": "2.7.12"
  }
 },
 "nbformat": 4,
 "nbformat_minor": 2
}
